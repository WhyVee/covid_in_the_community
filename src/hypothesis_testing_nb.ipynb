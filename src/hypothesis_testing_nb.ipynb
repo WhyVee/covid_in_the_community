{
 "cells": [
  {
   "cell_type": "code",
   "execution_count": 12,
   "metadata": {},
   "outputs": [],
   "source": [
    "import pandas as pd\n",
    "import numpy as np\n",
    "import matplotlib.pyplot as plt\n",
    "import scipy.stats as stats\n",
    "import statsmodels.stats.power as sm"
   ]
  },
  {
   "cell_type": "code",
   "execution_count": 2,
   "metadata": {},
   "outputs": [],
   "source": [
    "hospital_data = pd.read_csv('../data/hospital_chosen_zip.csv', sep='|')"
   ]
  },
  {
   "cell_type": "code",
   "execution_count": 3,
   "metadata": {},
   "outputs": [],
   "source": [
    "for feature in ['total_icu_beds_7_day_sum', 'inpatient_beds_7_day_sum', 'icu_beds_used_7_day_sum']:\n",
    "    hospital_data = hospital_data[hospital_data[feature].notna()]\n",
    "    if not feature == 'icu_beds_used_7_day_sum':\n",
    "        hospital_data = hospital_data[hospital_data[feature] > 0]\n",
    "\n",
    "hospital_data = hospital_data[hospital_data['total_icu_beds_7_day_sum'] > hospital_data['icu_beds_used_7_day_sum']]        \n",
    "        \n",
    "hospital_group = hospital_data.groupby('hospital_name')"
   ]
  },
  {
   "cell_type": "markdown",
   "metadata": {},
   "source": [
    "### Null Hypothesis\n",
    "\n",
    "During Covid, the average occupancy rate for inpatient beds is the same as the average occupancy rate for ICU beds"
   ]
  },
  {
   "cell_type": "markdown",
   "metadata": {},
   "source": [
    "### Alternate Hypothesis\n",
    "\n",
    "During Covid, the average occupancy rate for inpatient beds is higher than the average occupancy rate for ICU beds"
   ]
  },
  {
   "cell_type": "code",
   "execution_count": 4,
   "metadata": {},
   "outputs": [],
   "source": [
    "alpha = 0.05"
   ]
  },
  {
   "cell_type": "code",
   "execution_count": 5,
   "metadata": {},
   "outputs": [],
   "source": [
    "inpatient_percent = hospital_group.apply(lambda x: np.round(np.sum(x['inpatient_beds_used_7_day_sum'])\n",
    "                                         / np.sum(x['inpatient_beds_7_day_sum']), 4))\n"
   ]
  },
  {
   "cell_type": "code",
   "execution_count": 6,
   "metadata": {},
   "outputs": [
    {
     "data": {
      "text/plain": [
       "(0.0, 1.0)"
      ]
     },
     "execution_count": 6,
     "metadata": {},
     "output_type": "execute_result"
    },
    {
     "data": {
      "image/png": "[encoded data removed]",
      "text/plain": [
       "<Figure size 432x288 with 1 Axes>"
      ]
     },
     "metadata": {
      "needs_background": "light"
     },
     "output_type": "display_data"
    }
   ],
   "source": [
    "ax = inpatient_percent.hist(bins=500)\n",
    "ax.set_xlim(0, 1)"
   ]
  },
  {
   "cell_type": "code",
   "execution_count": 7,
   "metadata": {},
   "outputs": [],
   "source": [
    "icu_percent = hospital_group.apply(lambda x: np.round(np.sum(x['icu_beds_used_7_day_sum'])\n",
    "                                         / np.sum(x['total_icu_beds_7_day_sum']), 4))\n"
   ]
  },
  {
   "cell_type": "code",
   "execution_count": 8,
   "metadata": {},
   "outputs": [
    {
     "data": {
      "text/plain": [
       "(0.0, 1.0)"
      ]
     },
     "execution_count": 8,
     "metadata": {},
     "output_type": "execute_result"
    },
    {
     "data": {
      "image/png": "[encoded data removed]",
      "text/plain": [
       "<Figure size 432x288 with 1 Axes>"
      ]
     },
     "metadata": {
      "needs_background": "light"
     },
     "output_type": "display_data"
    }
   ],
   "source": [
    "ax = icu_percent.hist(bins=50)\n",
    "ax.set_xlim(0, 1)"
   ]
  },
  {
   "cell_type": "code",
   "execution_count": 21,
   "metadata": {},
   "outputs": [
    {
     "data": {
      "text/plain": [
       "0.12950035545825228"
      ]
     },
     "execution_count": 21,
     "metadata": {},
     "output_type": "execute_result"
    }
   ],
   "source": [
    "inpatient_mean = np.mean(inpatient_percent)\n",
    "inpatient_std = np.std(inpatient_percent)\n",
    "inpatient_n = len(inpatient_percent)\n",
    "\n",
    "icu_mean = np.mean(icu_percent)\n",
    "icu_std = np.std(icu_percent)\n",
    "icu_n = len(icu_percent)\n",
    "\n",
    "effect_size = (inpatient_mean - icu_mean) / inpatient_std\n",
    "nobs1 = inpatient_n\n",
    "ratio = 1\n",
    "alternative = 'two-sided'\n",
    "effect_size"
   ]
  },
  {
   "cell_type": "code",
   "execution_count": 23,
   "metadata": {},
   "outputs": [],
   "source": [
    "power = sm.zt_ind_solve_power(effect_size=effect_size, nobs1=nobs1, alpha=alpha, power=None, ratio=ratio, alternative=alternative) "
   ]
  },
  {
   "cell_type": "code",
   "execution_count": 24,
   "metadata": {},
   "outputs": [
    {
     "data": {
      "text/plain": [
       "0.9997112038873053"
      ]
     },
     "execution_count": 24,
     "metadata": {},
     "output_type": "execute_result"
    }
   ],
   "source": [
    "power"
   ]
  },
  {
   "cell_type": "code",
   "execution_count": null,
   "metadata": {},
   "outputs": [],
   "source": []
  }
 ],
 "metadata": {
  "kernelspec": {
   "display_name": "Python 3",
   "language": "python",
   "name": "python3"
  },
  "language_info": {
   "codemirror_mode": {
    "name": "ipython",
    "version": 3
   },
   "file_extension": ".py",
   "mimetype": "text/x-python",
   "name": "python",
   "nbconvert_exporter": "python",
   "pygments_lexer": "ipython3",
   "version": "3.8.5"
  }
 },
 "nbformat": 4,
 "nbformat_minor": 4
}
