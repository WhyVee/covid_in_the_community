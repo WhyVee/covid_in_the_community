{
 "cells": [
  {
   "cell_type": "markdown",
   "metadata": {},
   "source": [
    "The estimated inpatient hospital usage is shown over time. The percent of hospital beds occupiedby COVID-19 patients is color coded based on observed quantiles of the maximum proportion of beds occupiedby COVID-19 patients. Less than 5% is considered low stress, 5-9% is considered moderate stress, 10-19% isconsidered high stress, and greater than 20% is considered extreme stress.\n",
    "\n",
    "http://www.healthdata.org/sites/default/files/files/Projects/COVID/briefing_US_2020.12.04_.pdf\n",
    "Institute for Health Metrics and Evaluation"
   ]
  },
  {
   "cell_type": "code",
   "execution_count": null,
   "metadata": {},
   "outputs": [],
   "source": []
  }
 ],
 "metadata": {
  "kernelspec": {
   "display_name": "Python 3",
   "language": "python",
   "name": "python3"
  },
  "language_info": {
   "codemirror_mode": {
    "name": "ipython",
    "version": 3
   },
   "file_extension": ".py",
   "mimetype": "text/x-python",
   "name": "python",
   "nbconvert_exporter": "python",
   "pygments_lexer": "ipython3",
   "version": "3.8.5"
  }
 },
 "nbformat": 4,
 "nbformat_minor": 4
}
